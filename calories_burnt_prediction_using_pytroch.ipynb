{
 "cells": [
  {
   "cell_type": "code",
   "execution_count": 1,
   "id": "e296d7b1",
   "metadata": {},
   "outputs": [],
   "source": [
    "import pandas as pd\n",
    "import numpy as np\n",
    "import torch\n",
    "import torch.nn as nn\n",
    "import torch.optim as optim\n",
    "import seaborn as sns"
   ]
  },
  {
   "cell_type": "code",
   "execution_count": 2,
   "id": "c85fa144",
   "metadata": {},
   "outputs": [
    {
     "data": {
      "text/html": [
       "<div>\n",
       "<style scoped>\n",
       "    .dataframe tbody tr th:only-of-type {\n",
       "        vertical-align: middle;\n",
       "    }\n",
       "\n",
       "    .dataframe tbody tr th {\n",
       "        vertical-align: top;\n",
       "    }\n",
       "\n",
       "    .dataframe thead th {\n",
       "        text-align: right;\n",
       "    }\n",
       "</style>\n",
       "<table border=\"1\" class=\"dataframe\">\n",
       "  <thead>\n",
       "    <tr style=\"text-align: right;\">\n",
       "      <th></th>\n",
       "      <th>Calories</th>\n",
       "      <th>Gender</th>\n",
       "      <th>Age</th>\n",
       "      <th>Duration</th>\n",
       "      <th>Heart_Rate</th>\n",
       "      <th>Body_Temp</th>\n",
       "    </tr>\n",
       "  </thead>\n",
       "  <tbody>\n",
       "    <tr>\n",
       "      <th>0</th>\n",
       "      <td>231.0</td>\n",
       "      <td>1</td>\n",
       "      <td>68</td>\n",
       "      <td>29.0</td>\n",
       "      <td>105.0</td>\n",
       "      <td>40.8</td>\n",
       "    </tr>\n",
       "    <tr>\n",
       "      <th>1</th>\n",
       "      <td>66.0</td>\n",
       "      <td>0</td>\n",
       "      <td>20</td>\n",
       "      <td>14.0</td>\n",
       "      <td>94.0</td>\n",
       "      <td>40.3</td>\n",
       "    </tr>\n",
       "    <tr>\n",
       "      <th>2</th>\n",
       "      <td>26.0</td>\n",
       "      <td>1</td>\n",
       "      <td>69</td>\n",
       "      <td>5.0</td>\n",
       "      <td>88.0</td>\n",
       "      <td>38.7</td>\n",
       "    </tr>\n",
       "    <tr>\n",
       "      <th>3</th>\n",
       "      <td>71.0</td>\n",
       "      <td>0</td>\n",
       "      <td>34</td>\n",
       "      <td>13.0</td>\n",
       "      <td>100.0</td>\n",
       "      <td>40.5</td>\n",
       "    </tr>\n",
       "    <tr>\n",
       "      <th>4</th>\n",
       "      <td>35.0</td>\n",
       "      <td>0</td>\n",
       "      <td>27</td>\n",
       "      <td>10.0</td>\n",
       "      <td>81.0</td>\n",
       "      <td>39.8</td>\n",
       "    </tr>\n",
       "  </tbody>\n",
       "</table>\n",
       "</div>"
      ],
      "text/plain": [
       "   Calories  Gender  Age  Duration  Heart_Rate  Body_Temp\n",
       "0     231.0       1   68      29.0       105.0       40.8\n",
       "1      66.0       0   20      14.0        94.0       40.3\n",
       "2      26.0       1   69       5.0        88.0       38.7\n",
       "3      71.0       0   34      13.0       100.0       40.5\n",
       "4      35.0       0   27      10.0        81.0       39.8"
      ]
     },
     "execution_count": 2,
     "metadata": {},
     "output_type": "execute_result"
    }
   ],
   "source": [
    "df=pd.read_csv('transform_and_clean_data.csv')\n",
    "df.head()"
   ]
  },
  {
   "cell_type": "code",
   "execution_count": 4,
   "id": "bc70374a",
   "metadata": {},
   "outputs": [],
   "source": [
    "# from  sklearn.preprocessing import StandardScaler\n",
    "\n",
    "# std=StandardScaler()\n",
    "\n",
    "# df.iloc[:,:-1]=std.fit_transform(df.iloc[:,:-1])\n",
    "# df.head()"
   ]
  },
  {
   "cell_type": "code",
   "execution_count": 3,
   "id": "7b6d36a2",
   "metadata": {},
   "outputs": [],
   "source": [
    "x=df[['Age', 'Duration', 'Heart_Rate', 'Body_Temp']].values\n",
    "y=df['Calories'].values"
   ]
  },
  {
   "cell_type": "code",
   "execution_count": 4,
   "id": "a1a93db7",
   "metadata": {},
   "outputs": [],
   "source": [
    "# Convert to PyTorch tensors (float32 for model input)\n",
    "x_tensor = torch.tensor(x, dtype=torch.float32)\n",
    "y_tensor = torch.tensor(y, dtype=torch.float32)"
   ]
  },
  {
   "cell_type": "code",
   "execution_count": 5,
   "id": "95ce8594",
   "metadata": {},
   "outputs": [
    {
     "data": {
      "text/plain": [
       "tensor([[ 68.0000,  29.0000, 105.0000,  40.8000],\n",
       "        [ 20.0000,  14.0000,  94.0000,  40.3000],\n",
       "        [ 69.0000,   5.0000,  88.0000,  38.7000],\n",
       "        ...,\n",
       "        [ 43.0000,  16.0000,  90.0000,  40.1000],\n",
       "        [ 78.0000,   2.0000,  84.0000,  38.3000],\n",
       "        [ 63.0000,  18.0000,  92.0000,  40.5000]])"
      ]
     },
     "execution_count": 5,
     "metadata": {},
     "output_type": "execute_result"
    }
   ],
   "source": [
    "x_tensor"
   ]
  },
  {
   "cell_type": "code",
   "execution_count": 6,
   "id": "337ae980",
   "metadata": {},
   "outputs": [],
   "source": [
    "from sklearn.model_selection import train_test_split\n",
    "\n",
    "# 1. Split into train and test\n",
    "x_train, x_test, y_train, y_test = train_test_split(\n",
    "    x_tensor, y_tensor, test_size=0.2, random_state=42\n",
    ")"
   ]
  },
  {
   "cell_type": "code",
   "execution_count": 7,
   "id": "b6241dac",
   "metadata": {},
   "outputs": [],
   "source": [
    "class ANN(nn.Module):\n",
    "\n",
    "    def __init__(self,input_dim):\n",
    "        super(ANN,self).__init__()\n",
    "        self.model=nn.Sequential(\n",
    "            nn.Linear(input_dim,64),\n",
    "            nn.ReLU(),\n",
    "            nn.Linear(64,32),\n",
    "            nn.ReLU(),\n",
    "            nn.Linear(32,1)            \n",
    "        )\n",
    "\n",
    "    def forward(self,x):\n",
    "        return self.model(x)\n"
   ]
  },
  {
   "cell_type": "code",
   "execution_count": 8,
   "id": "cb39002e",
   "metadata": {},
   "outputs": [],
   "source": [
    "input_dim=x_train.shape[1]\n",
    "model=ANN(input_dim)\n"
   ]
  },
  {
   "cell_type": "code",
   "execution_count": 9,
   "id": "34334096",
   "metadata": {},
   "outputs": [],
   "source": [
    "criterion=nn.MSELoss()\n",
    "optimizer=optim.Adam(model.parameters(),lr=0.001)"
   ]
  },
  {
   "cell_type": "code",
   "execution_count": 10,
   "id": "9507b65a",
   "metadata": {},
   "outputs": [
    {
     "name": "stdout",
     "output_type": "stream",
     "text": [
      "Epoch [10/300], Loss: 8873.1719\n",
      "Epoch [20/300], Loss: 6813.1089\n",
      "Epoch [30/300], Loss: 4898.5024\n",
      "Epoch [40/300], Loss: 3520.3247\n",
      "Epoch [50/300], Loss: 3054.0850\n",
      "Epoch [60/300], Loss: 3055.6467\n",
      "Epoch [70/300], Loss: 2960.6121\n",
      "Epoch [80/300], Loss: 2876.9827\n",
      "Epoch [90/300], Loss: 2812.0134\n",
      "Epoch [100/300], Loss: 2735.2249\n",
      "Epoch [110/300], Loss: 2648.3040\n",
      "Epoch [120/300], Loss: 2550.6814\n",
      "Epoch [130/300], Loss: 2447.8269\n",
      "Epoch [140/300], Loss: 2337.3428\n",
      "Epoch [150/300], Loss: 2216.3677\n",
      "Epoch [160/300], Loss: 2087.3496\n",
      "Epoch [170/300], Loss: 1954.5347\n",
      "Epoch [180/300], Loss: 1818.2437\n",
      "Epoch [190/300], Loss: 1676.8539\n",
      "Epoch [200/300], Loss: 1529.7660\n",
      "Epoch [210/300], Loss: 1377.4327\n",
      "Epoch [220/300], Loss: 1211.7251\n",
      "Epoch [230/300], Loss: 1040.6498\n",
      "Epoch [240/300], Loss: 865.4995\n",
      "Epoch [250/300], Loss: 696.6677\n",
      "Epoch [260/300], Loss: 544.7049\n",
      "Epoch [270/300], Loss: 418.6924\n",
      "Epoch [280/300], Loss: 322.6388\n",
      "Epoch [290/300], Loss: 256.3665\n",
      "Epoch [300/300], Loss: 215.1593\n"
     ]
    }
   ],
   "source": [
    "epochs=300\n",
    "errors=[]\n",
    "for epoch in range(epochs):\n",
    "    model.train()\n",
    "    outputs=model(x_train)\n",
    "    loss=criterion(outputs.squeeze(),y_train)\n",
    "    optimizer.zero_grad()\n",
    "    loss.backward()\n",
    "    optimizer.step()\n",
    "\n",
    "    errors.append([epoch+1,loss])\n",
    "\n",
    "    if (epoch+1) % 10 == 0:\n",
    "        print(f\"Epoch [{epoch+1}/{epochs}], Loss: {loss.item():.4f}\")"
   ]
  },
  {
   "cell_type": "code",
   "execution_count": 11,
   "id": "3f035748",
   "metadata": {},
   "outputs": [
    {
     "name": "stdout",
     "output_type": "stream",
     "text": [
      "[ 17. 167.  40. ...  41.  57.  59.]\n",
      "[ 27.234856 153.84854   59.477318 ...  46.90978   66.51937   81.57613 ]\n",
      "Train R² Score: 0.9451\n",
      "Test R² Score:  0.9442\n"
     ]
    }
   ],
   "source": [
    "from sklearn.metrics import r2_score\n",
    "\n",
    "# Put model in evaluation mode\n",
    "model.eval()\n",
    "\n",
    "with torch.no_grad():\n",
    "    # Get predictions\n",
    "    y_train_pred = model(x_train).squeeze()\n",
    "    y_test_pred = model(x_test).squeeze()\n",
    "\n",
    "    # Convert to NumPy arrays for sklearn\n",
    "    y_train_np = y_train.numpy()\n",
    "    y_train_pred_np = y_train_pred.numpy()\n",
    "\n",
    "    y_test_np = y_test.numpy()\n",
    "    y_test_pred_np = y_test_pred.numpy()\n",
    "\n",
    "    print(y_train_np)\n",
    "    print(y_train_pred_np)\n",
    "\n",
    "    # Calculate R² Scores\n",
    "    r2_train = r2_score(y_train_np, y_train_pred_np)\n",
    "    r2_test = r2_score(y_test_np, y_test_pred_np)\n",
    "\n",
    "    print(f\"Train R² Score: {r2_train:.4f}\")\n",
    "    print(f\"Test R² Score:  {r2_test:.4f}\")\n"
   ]
  },
  {
   "cell_type": "code",
   "execution_count": null,
   "id": "a6f7a4aa",
   "metadata": {},
   "outputs": [],
   "source": [
    "epochs_list, loss_values = zip(*errors)"
   ]
  },
  {
   "cell_type": "code",
   "execution_count": 18,
   "id": "9ad81313",
   "metadata": {},
   "outputs": [
    {
     "data": {
      "text/plain": [
       "tuple"
      ]
     },
     "execution_count": 18,
     "metadata": {},
     "output_type": "execute_result"
    }
   ],
   "source": [
    "type(epochs_list)"
   ]
  },
  {
   "cell_type": "code",
   "execution_count": 22,
   "id": "57e5aafc",
   "metadata": {},
   "outputs": [],
   "source": [
    "loss_values=torch.tensor(loss_values).numpy()"
   ]
  },
  {
   "cell_type": "code",
   "execution_count": 23,
   "id": "ffd49e87",
   "metadata": {},
   "outputs": [
    {
     "data": {
      "image/png": "[encoded data removed]",
      "text/plain": [
       "<Figure size 800x500 with 1 Axes>"
      ]
     },
     "metadata": {},
     "output_type": "display_data"
    }
   ],
   "source": [
    "import matplotlib.pyplot as plt\n",
    "\n",
    "# Plot\n",
    "plt.figure(figsize=(8, 5))\n",
    "plt.plot(epochs_list, loss_values, label='Training Loss', color='blue')\n",
    "plt.xlabel(\"Epochs\")\n",
    "plt.ylabel(\"Loss\")\n",
    "plt.title(\"Training Loss over Epochs\")\n",
    "plt.grid(True)\n",
    "plt.legend()\n",
    "plt.show()"
   ]
  },
  {
   "cell_type": "code",
   "execution_count": 24,
   "id": "37a6f3fe",
   "metadata": {},
   "outputs": [],
   "source": [
    "torch.save(model,'pytorch_calorie_burn_prediction_model.pth')"
   ]
  },
  {
   "cell_type": "code",
   "execution_count": 26,
   "id": "3f9b6c31",
   "metadata": {},
   "outputs": [
    {
     "data": {
      "text/plain": [
       "ANN(\n",
       "  (model): Sequential(\n",
       "    (0): Linear(in_features=4, out_features=64, bias=True)\n",
       "    (1): ReLU()\n",
       "    (2): Linear(in_features=64, out_features=32, bias=True)\n",
       "    (3): ReLU()\n",
       "    (4): Linear(in_features=32, out_features=1, bias=True)\n",
       "  )\n",
       ")"
      ]
     },
     "execution_count": 26,
     "metadata": {},
     "output_type": "execute_result"
    }
   ],
   "source": [
    "load_model=torch.load('pytorch_calorie_burn_prediction_model.pth',weights_only=False)\n",
    "load_model.eval()"
   ]
  },
  {
   "cell_type": "code",
   "execution_count": 27,
   "id": "c0ac36d4",
   "metadata": {},
   "outputs": [
    {
     "name": "stdout",
     "output_type": "stream",
     "text": [
      "[161.8952   171.74191   64.26514  ... 121.2253    14.196292 175.84567 ]\n"
     ]
    }
   ],
   "source": [
    "with torch.no_grad():\n",
    "    predictions = load_model(x_test).squeeze().detach().cpu().numpy()\n",
    "    print(predictions)"
   ]
  },
  {
   "cell_type": "code",
   "execution_count": 28,
   "id": "84f8f0f4",
   "metadata": {},
   "outputs": [
    {
     "data": {
      "text/plain": [
       "tensor([173., 189.,  53.,  ..., 120.,  20., 214.])"
      ]
     },
     "execution_count": 28,
     "metadata": {},
     "output_type": "execute_result"
    }
   ],
   "source": [
    "y_test"
   ]
  },
  {
   "cell_type": "code",
   "execution_count": null,
   "id": "b3cd6139",
   "metadata": {},
   "outputs": [],
   "source": []
  }
 ],
 "metadata": {
  "kernelspec": {
   "display_name": "env",
   "language": "python",
   "name": "python3"
  },
  "language_info": {
   "codemirror_mode": {
    "name": "ipython",
    "version": 3
   },
   "file_extension": ".py",
   "mimetype": "text/x-python",
   "name": "python",
   "nbconvert_exporter": "python",
   "pygments_lexer": "ipython3",
   "version": "3.12.3"
  }
 },
 "nbformat": 4,
 "nbformat_minor": 5
}
